{
 "cells": [
  {
   "cell_type": "code",
   "execution_count": 1,
   "id": "42f82cb5",
   "metadata": {},
   "outputs": [],
   "source": [
    "import torch\n",
    "import torch.nn as nn\n",
    "import torch.optim as optim\n",
    "from torchrl.envs.utils import set_exploration_type, ExplorationType\n",
    "from torchrl.envs import GymEnv\n",
    "from torchrl.modules import SafeModule, ProbabilisticActor\n",
    "from torchrl.modules.distributions import OneHotCategorical"
   ]
  },
  {
   "cell_type": "code",
   "execution_count": null,
   "id": "582e8dd9",
   "metadata": {},
   "outputs": [],
   "source": [
    "device = torch.device(\"cuda\" if torch.cuda.is_available() else \"cpu\")\n",
    "env = GymEnv(\"CartPole-v1\", device=device)\n",
    "\n",
    "actor = ProbabilisticActor(\n",
    "    module=SafeModule(\n",
    "        module=nn.Sequential(\n",
    "            nn.Linear(4, 16),\n",
    "            nn.ReLU(),\n",
    "            nn.Linear(16, 16),\n",
    "            nn.ReLU(),\n",
    "            nn.Linear(16, 2),\n",
    "        ),\n",
    "        in_keys=[\"observation\"],\n",
    "        out_keys=[\"logits\"],\n",
    "    ),\n",
    "    spec=env.action_spec,\n",
    "    in_keys=[\"logits\"],\n",
    "    distribution_class=OneHotCategorical,\n",
    "    return_log_prob=True,\n",
    ").to(device)"
   ]
  },
  {
   "cell_type": "code",
   "execution_count": 4,
   "id": "2fe6313b",
   "metadata": {},
   "outputs": [
    {
     "data": {
      "text/plain": [
       "ProbabilisticActor(\n",
       "    module=ModuleList(\n",
       "      (0): SafeModule(\n",
       "          module=Sequential(\n",
       "            (0): Linear(in_features=4, out_features=16, bias=True)\n",
       "            (1): ReLU()\n",
       "            (2): Linear(in_features=16, out_features=16, bias=True)\n",
       "            (3): ReLU()\n",
       "            (4): Linear(in_features=16, out_features=2, bias=True)\n",
       "          ),\n",
       "          device=cpu,\n",
       "          in_keys=['observation'],\n",
       "          out_keys=['logits'])\n",
       "      (1): SafeProbabilisticModule(\n",
       "          in_keys=['logits'],\n",
       "          out_keys=['action', 'action_log_prob'],\n",
       "          distribution_class=<class 'torchrl.modules.distributions.discrete.OneHotCategorical'>, \n",
       "          distribution_kwargs={}),\n",
       "          default_interaction_type=deterministic),\n",
       "          num_samples=None))\n",
       "    ),\n",
       "    device=cpu,\n",
       "    in_keys=['observation'],\n",
       "    out_keys=['logits', 'action', 'action_log_prob'])"
      ]
     },
     "execution_count": 4,
     "metadata": {},
     "output_type": "execute_result"
    }
   ],
   "source": [
    "actor"
   ]
  },
  {
   "cell_type": "code",
   "execution_count": 5,
   "id": "f5aa258e",
   "metadata": {},
   "outputs": [
    {
     "name": "stdout",
     "output_type": "stream",
     "text": [
      "Episode 0: Average Reward (last 50): 13.00\n",
      "Episode 50: Average Reward (last 50): 21.64\n",
      "Episode 100: Average Reward (last 50): 20.66\n",
      "Episode 150: Average Reward (last 50): 19.70\n",
      "Episode 200: Average Reward (last 50): 19.78\n",
      "Episode 250: Average Reward (last 50): 23.92\n",
      "Episode 300: Average Reward (last 50): 25.68\n",
      "Episode 350: Average Reward (last 50): 20.84\n",
      "Episode 400: Average Reward (last 50): 22.52\n",
      "Episode 450: Average Reward (last 50): 30.16\n",
      "Episode 500: Average Reward (last 50): 26.92\n",
      "Episode 550: Average Reward (last 50): 33.28\n",
      "Episode 600: Average Reward (last 50): 31.24\n",
      "Episode 650: Average Reward (last 50): 36.82\n",
      "Episode 700: Average Reward (last 50): 42.40\n",
      "Episode 750: Average Reward (last 50): 58.20\n",
      "Episode 800: Average Reward (last 50): 55.12\n",
      "Episode 850: Average Reward (last 50): 42.54\n",
      "Episode 900: Average Reward (last 50): 75.74\n",
      "Episode 950: Average Reward (last 50): 80.92\n"
     ]
    }
   ],
   "source": [
    "optimizer = optim.Adam(actor.parameters(), lr=1e-3)\n",
    "\n",
    "num_episodes = 1000\n",
    "max_steps_per_episode = 500\n",
    "reward_log = []\n",
    "gamma = 0.99\n",
    "\n",
    "for episode in range(num_episodes):\n",
    "    episode_data = []\n",
    "    td = env.reset()\n",
    "\n",
    "    with set_exploration_type(ExplorationType.RANDOM):\n",
    "        for step in range(max_steps_per_episode):\n",
    "            td = actor(td)\n",
    "            td_next = env.step(td)\n",
    "            episode_data.append(td_next.clone())\n",
    "            \n",
    "            done = td_next.get((\"next\", \"done\"))\n",
    "            if done.any():\n",
    "                break\n",
    "            \n",
    "            td = td_next.get(\"next\")\n",
    "\n",
    "    \n",
    "    T = len(episode_data)\n",
    "    rewards = torch.tensor(\n",
    "        [td_step.get((\"next\", \"reward\")) for td_step in episode_data],\n",
    "        device=device,\n",
    "    )\n",
    "\n",
    "    returns = torch.zeros(T, device=device)\n",
    "    G = 0\n",
    "    for t in reversed(range(T)):\n",
    "        G = rewards[t] + gamma * G\n",
    "        returns[t] = G\n",
    "    \n",
    "    logits = torch.stack([td_step.get(\"action_log_prob\") for td_step in episode_data])\n",
    "    loss = -(torch.mean(logits * returns))\n",
    "    \n",
    "    optimizer.zero_grad()\n",
    "    loss.backward()\n",
    "    optimizer.step()\n",
    "    \n",
    "    reward_log.append(rewards.sum().item())\n",
    "    \n",
    "    if episode % 50 == 0 or episode == 0:\n",
    "        avg_reward = sum(reward_log[-50:]) / len(reward_log[-50:])\n",
    "        print(f\"Episode {episode}: Average Reward (last 50): {avg_reward:.2f}\")\n",
    "    \n",
    "    if len(reward_log) > 10 and sum(reward_log[-10:]) / 10 > 475:\n",
    "        print(f\"\\nSolved at episode {episode}!\")\n",
    "        break\n",
    "\n",
    "env.close()"
   ]
  },
  {
   "cell_type": "code",
   "execution_count": null,
   "id": "61e055e9",
   "metadata": {},
   "outputs": [],
   "source": []
  }
 ],
 "metadata": {
  "kernelspec": {
   "display_name": "MLtrading",
   "language": "python",
   "name": "python3"
  },
  "language_info": {
   "codemirror_mode": {
    "name": "ipython",
    "version": 3
   },
   "file_extension": ".py",
   "mimetype": "text/x-python",
   "name": "python",
   "nbconvert_exporter": "python",
   "pygments_lexer": "ipython3",
   "version": "3.10.18"
  }
 },
 "nbformat": 4,
 "nbformat_minor": 5
}
