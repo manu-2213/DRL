{
 "cells": [
  {
   "cell_type": "code",
   "execution_count": null,
   "id": "d0feeac8",
   "metadata": {},
   "outputs": [
    {
     "name": "stdout",
     "output_type": "stream",
     "text": [
      "Found existing installation: gymnasium 1.0.0\n",
      "Uninstalling gymnasium-1.0.0:\n",
      "  Successfully uninstalled gymnasium-1.0.0\n",
      "Note: you may need to restart the kernel to use updated packages.\n",
      "Collecting gymnasium==0.29.1\n",
      "  Using cached gymnasium-0.29.1-py3-none-any.whl.metadata (10 kB)\n",
      "Requirement already satisfied: numpy>=1.21.0 in /Users/manu13/anaconda3/envs/MLClass/lib/python3.9/site-packages (from gymnasium==0.29.1) (1.23.5)\n",
      "Requirement already satisfied: cloudpickle>=1.2.0 in /Users/manu13/anaconda3/envs/MLClass/lib/python3.9/site-packages (from gymnasium==0.29.1) (3.1.0)\n",
      "Requirement already satisfied: typing-extensions>=4.3.0 in /Users/manu13/anaconda3/envs/MLClass/lib/python3.9/site-packages (from gymnasium==0.29.1) (4.11.0)\n",
      "Requirement already satisfied: farama-notifications>=0.0.1 in /Users/manu13/anaconda3/envs/MLClass/lib/python3.9/site-packages (from gymnasium==0.29.1) (0.0.4)\n",
      "Requirement already satisfied: importlib-metadata>=4.8.0 in /Users/manu13/anaconda3/envs/MLClass/lib/python3.9/site-packages (from gymnasium==0.29.1) (7.0.1)\n",
      "Requirement already satisfied: zipp>=0.5 in /Users/manu13/anaconda3/envs/MLClass/lib/python3.9/site-packages (from importlib-metadata>=4.8.0->gymnasium==0.29.1) (3.20.2)\n",
      "Using cached gymnasium-0.29.1-py3-none-any.whl (953 kB)\n",
      "Installing collected packages: gymnasium\n",
      "Successfully installed gymnasium-0.29.1\n",
      "Note: you may need to restart the kernel to use updated packages.\n",
      "Requirement already satisfied: gym==0.26.2 in /Users/manu13/anaconda3/envs/MLClass/lib/python3.9/site-packages (0.26.2)\n",
      "Requirement already satisfied: numpy>=1.18.0 in /Users/manu13/anaconda3/envs/MLClass/lib/python3.9/site-packages (from gym==0.26.2) (1.23.5)\n",
      "Requirement already satisfied: cloudpickle>=1.2.0 in /Users/manu13/anaconda3/envs/MLClass/lib/python3.9/site-packages (from gym==0.26.2) (3.1.0)\n",
      "Requirement already satisfied: importlib_metadata>=4.8.0 in /Users/manu13/anaconda3/envs/MLClass/lib/python3.9/site-packages (from gym==0.26.2) (7.0.1)\n",
      "Requirement already satisfied: gym_notices>=0.0.4 in /Users/manu13/anaconda3/envs/MLClass/lib/python3.9/site-packages (from gym==0.26.2) (0.0.8)\n",
      "Requirement already satisfied: zipp>=0.5 in /Users/manu13/anaconda3/envs/MLClass/lib/python3.9/site-packages (from importlib_metadata>=4.8.0->gym==0.26.2) (3.20.2)\n",
      "Note: you may need to restart the kernel to use updated packages.\n"
     ]
    }
   ],
   "source": [
    "# %pip uninstall -y gymnasium\n",
    "# %pip install \"gymnasium==0.29.1\"\n",
    "# %pip install \"gym==0.26.2\""
   ]
  },
  {
   "cell_type": "code",
   "execution_count": 1,
   "id": "82a9462b",
   "metadata": {},
   "outputs": [],
   "source": [
    "# Get a gym environment\n",
    "\n",
    "from torchrl.envs import GymEnv\n",
    "env = GymEnv(\"Pendulum-v1\")\n"
   ]
  },
  {
   "cell_type": "code",
   "execution_count": 2,
   "id": "ba6e9017",
   "metadata": {},
   "outputs": [
    {
     "data": {
      "text/plain": [
       "GymEnv(env=Pendulum-v1, batch_size=torch.Size([]), device=None)"
      ]
     },
     "execution_count": 2,
     "metadata": {},
     "output_type": "execute_result"
    }
   ],
   "source": [
    "# reset() -> Initiates and episode\n",
    "# step() -> Executes an action\n",
    "\n",
    "env"
   ]
  },
  {
   "cell_type": "code",
   "execution_count": 3,
   "id": "e418dd69",
   "metadata": {},
   "outputs": [
    {
     "name": "stdout",
     "output_type": "stream",
     "text": [
      "TensorDict(\n",
      "    fields={\n",
      "        done: Tensor(shape=torch.Size([1]), device=cpu, dtype=torch.bool, is_shared=False),\n",
      "        observation: Tensor(shape=torch.Size([3]), device=cpu, dtype=torch.float32, is_shared=False),\n",
      "        terminated: Tensor(shape=torch.Size([1]), device=cpu, dtype=torch.bool, is_shared=False),\n",
      "        truncated: Tensor(shape=torch.Size([1]), device=cpu, dtype=torch.bool, is_shared=False)},\n",
      "    batch_size=torch.Size([]),\n",
      "    device=None,\n",
      "    is_shared=False)\n"
     ]
    }
   ],
   "source": [
    "reset = env.reset()\n",
    "print(reset)"
   ]
  },
  {
   "cell_type": "code",
   "execution_count": null,
   "id": "7a8e7de4",
   "metadata": {},
   "outputs": [
    {
     "name": "stdout",
     "output_type": "stream",
     "text": [
      "TensorDict(\n",
      "    fields={\n",
      "        action: Tensor(shape=torch.Size([1]), device=cpu, dtype=torch.float32, is_shared=False),\n",
      "        done: Tensor(shape=torch.Size([1]), device=cpu, dtype=torch.bool, is_shared=False),\n",
      "        observation: Tensor(shape=torch.Size([3]), device=cpu, dtype=torch.float32, is_shared=False),\n",
      "        terminated: Tensor(shape=torch.Size([1]), device=cpu, dtype=torch.bool, is_shared=False),\n",
      "        truncated: Tensor(shape=torch.Size([1]), device=cpu, dtype=torch.bool, is_shared=False)},\n",
      "    batch_size=torch.Size([]),\n",
      "    device=None,\n",
      "    is_shared=False)\n"
     ]
    }
   ],
   "source": [
    "# Take a random action in the action space\n",
    "\n",
    "reset_with_action = env.rand_action(reset)\n",
    "print(reset_with_action) # Additional action entry"
   ]
  },
  {
   "cell_type": "code",
   "execution_count": null,
   "id": "9c00497f",
   "metadata": {},
   "outputs": [
    {
     "name": "stdout",
     "output_type": "stream",
     "text": [
      "tensor([1.5775])\n"
     ]
    }
   ],
   "source": [
    "print(reset_with_action[\"action\"]) # Retireve action taken"
   ]
  },
  {
   "cell_type": "code",
   "execution_count": 7,
   "id": "26d3d57e",
   "metadata": {},
   "outputs": [
    {
     "name": "stdout",
     "output_type": "stream",
     "text": [
      "TensorDict(\n",
      "    fields={\n",
      "        action: Tensor(shape=torch.Size([1]), device=cpu, dtype=torch.float32, is_shared=False),\n",
      "        done: Tensor(shape=torch.Size([1]), device=cpu, dtype=torch.bool, is_shared=False),\n",
      "        next: TensorDict(\n",
      "            fields={\n",
      "                done: Tensor(shape=torch.Size([1]), device=cpu, dtype=torch.bool, is_shared=False),\n",
      "                observation: Tensor(shape=torch.Size([3]), device=cpu, dtype=torch.float32, is_shared=False),\n",
      "                reward: Tensor(shape=torch.Size([1]), device=cpu, dtype=torch.float32, is_shared=False),\n",
      "                terminated: Tensor(shape=torch.Size([1]), device=cpu, dtype=torch.bool, is_shared=False),\n",
      "                truncated: Tensor(shape=torch.Size([1]), device=cpu, dtype=torch.bool, is_shared=False)},\n",
      "            batch_size=torch.Size([]),\n",
      "            device=None,\n",
      "            is_shared=False),\n",
      "        observation: Tensor(shape=torch.Size([3]), device=cpu, dtype=torch.float32, is_shared=False),\n",
      "        terminated: Tensor(shape=torch.Size([1]), device=cpu, dtype=torch.bool, is_shared=False),\n",
      "        truncated: Tensor(shape=torch.Size([1]), device=cpu, dtype=torch.bool, is_shared=False)},\n",
      "    batch_size=torch.Size([]),\n",
      "    device=None,\n",
      "    is_shared=False)\n"
     ]
    }
   ],
   "source": [
    "# We pass the action to env. We pass the entire tensordict to the step method.\n",
    "stepped_data = env.step(reset_with_action)\n",
    "print(stepped_data) # Has a \"next\" entry (a tensordict itself) containing, obs, r, and done resulting from the action.\n",
    "                    # We call this format TED, for TorchRL Episode Data format"
   ]
  },
  {
   "cell_type": "code",
   "execution_count": null,
   "id": "1f36093c",
   "metadata": {},
   "outputs": [
    {
     "name": "stdout",
     "output_type": "stream",
     "text": [
      "TensorDict(\n",
      "    fields={\n",
      "        done: Tensor(shape=torch.Size([1]), device=cpu, dtype=torch.bool, is_shared=False),\n",
      "        observation: Tensor(shape=torch.Size([3]), device=cpu, dtype=torch.float32, is_shared=False),\n",
      "        terminated: Tensor(shape=torch.Size([1]), device=cpu, dtype=torch.bool, is_shared=False),\n",
      "        truncated: Tensor(shape=torch.Size([1]), device=cpu, dtype=torch.bool, is_shared=False)},\n",
      "    batch_size=torch.Size([]),\n",
      "    device=None,\n",
      "    is_shared=False)\n"
     ]
    }
   ],
   "source": [
    "# How to bring the \"next\" entry at the root to perform the next step\n",
    "from torchrl.envs import step_mdp\n",
    "\n",
    "data = step_mdp(stepped_data)\n",
    "print(data) # Delivers a data structure corresponding to obs after step in the MDP"
   ]
  },
  {
   "cell_type": "code",
   "execution_count": null,
   "id": "2dd7e408",
   "metadata": {},
   "outputs": [
    {
     "name": "stdout",
     "output_type": "stream",
     "text": [
      "TensorDict(\n",
      "    fields={\n",
      "        action: Tensor(shape=torch.Size([10, 1]), device=cpu, dtype=torch.float32, is_shared=False),\n",
      "        done: Tensor(shape=torch.Size([10, 1]), device=cpu, dtype=torch.bool, is_shared=False),\n",
      "        next: TensorDict(\n",
      "            fields={\n",
      "                done: Tensor(shape=torch.Size([10, 1]), device=cpu, dtype=torch.bool, is_shared=False),\n",
      "                observation: Tensor(shape=torch.Size([10, 3]), device=cpu, dtype=torch.float32, is_shared=False),\n",
      "                reward: Tensor(shape=torch.Size([10, 1]), device=cpu, dtype=torch.float32, is_shared=False),\n",
      "                terminated: Tensor(shape=torch.Size([10, 1]), device=cpu, dtype=torch.bool, is_shared=False),\n",
      "                truncated: Tensor(shape=torch.Size([10, 1]), device=cpu, dtype=torch.bool, is_shared=False)},\n",
      "            batch_size=torch.Size([10]),\n",
      "            device=None,\n",
      "            is_shared=False),\n",
      "        observation: Tensor(shape=torch.Size([10, 3]), device=cpu, dtype=torch.float32, is_shared=False),\n",
      "        terminated: Tensor(shape=torch.Size([10, 1]), device=cpu, dtype=torch.bool, is_shared=False),\n",
      "        truncated: Tensor(shape=torch.Size([10, 1]), device=cpu, dtype=torch.bool, is_shared=False)},\n",
      "    batch_size=torch.Size([10]),\n",
      "    device=None,\n",
      "    is_shared=False)\n"
     ]
    }
   ],
   "source": [
    "# Rollout() allows you to compute action, make step, and move in the MDP in a closed loop\n",
    "\n",
    "rollout = env.rollout(max_steps=10) # without a policy it runs random actions\n",
    "print(rollout) # Like step data but with batch_size\n",
    "\n",
    "# It can useful to run a naive, policyless rollout at first to check what is to be expected from an environment at a glance."
   ]
  },
  {
   "cell_type": "code",
   "execution_count": null,
   "id": "85523bdd",
   "metadata": {},
   "outputs": [
    {
     "name": "stdout",
     "output_type": "stream",
     "text": [
      "TensorDict(\n",
      "    fields={\n",
      "        action: Tensor(shape=torch.Size([1]), device=cpu, dtype=torch.float32, is_shared=False),\n",
      "        done: Tensor(shape=torch.Size([1]), device=cpu, dtype=torch.bool, is_shared=False),\n",
      "        next: TensorDict(\n",
      "            fields={\n",
      "                done: Tensor(shape=torch.Size([1]), device=cpu, dtype=torch.bool, is_shared=False),\n",
      "                observation: Tensor(shape=torch.Size([3]), device=cpu, dtype=torch.float32, is_shared=False),\n",
      "                reward: Tensor(shape=torch.Size([1]), device=cpu, dtype=torch.float32, is_shared=False),\n",
      "                terminated: Tensor(shape=torch.Size([1]), device=cpu, dtype=torch.bool, is_shared=False),\n",
      "                truncated: Tensor(shape=torch.Size([1]), device=cpu, dtype=torch.bool, is_shared=False)},\n",
      "            batch_size=torch.Size([]),\n",
      "            device=None,\n",
      "            is_shared=False),\n",
      "        observation: Tensor(shape=torch.Size([3]), device=cpu, dtype=torch.float32, is_shared=False),\n",
      "        terminated: Tensor(shape=torch.Size([1]), device=cpu, dtype=torch.bool, is_shared=False),\n",
      "        truncated: Tensor(shape=torch.Size([1]), device=cpu, dtype=torch.bool, is_shared=False)},\n",
      "    batch_size=torch.Size([]),\n",
      "    device=None,\n",
      "    is_shared=False)\n"
     ]
    }
   ],
   "source": [
    "# tensordict can be indexed (one of the batches)\n",
    "\n",
    "transition = rollout[3]\n",
    "print(transition)"
   ]
  },
  {
   "cell_type": "code",
   "execution_count": null,
   "id": "e17bac3c",
   "metadata": {},
   "outputs": [
    {
     "name": "stdout",
     "output_type": "stream",
     "text": [
      "TensorDict(\n",
      "    fields={\n",
      "        action: Tensor(shape=torch.Size([10, 1]), device=cpu, dtype=torch.float32, is_shared=False),\n",
      "        done: Tensor(shape=torch.Size([10, 1]), device=cpu, dtype=torch.bool, is_shared=False),\n",
      "        next: TensorDict(\n",
      "            fields={\n",
      "                done: Tensor(shape=torch.Size([10, 1]), device=cpu, dtype=torch.bool, is_shared=False),\n",
      "                observation: Tensor(shape=torch.Size([10, 3]), device=cpu, dtype=torch.float32, is_shared=False),\n",
      "                reward: Tensor(shape=torch.Size([10, 1]), device=cpu, dtype=torch.float32, is_shared=False),\n",
      "                step_count: Tensor(shape=torch.Size([10, 1]), device=cpu, dtype=torch.int64, is_shared=False),\n",
      "                terminated: Tensor(shape=torch.Size([10, 1]), device=cpu, dtype=torch.bool, is_shared=False),\n",
      "                truncated: Tensor(shape=torch.Size([10, 1]), device=cpu, dtype=torch.bool, is_shared=False)},\n",
      "            batch_size=torch.Size([10]),\n",
      "            device=None,\n",
      "            is_shared=False),\n",
      "        observation: Tensor(shape=torch.Size([10, 3]), device=cpu, dtype=torch.float32, is_shared=False),\n",
      "        step_count: Tensor(shape=torch.Size([10, 1]), device=cpu, dtype=torch.int64, is_shared=False),\n",
      "        terminated: Tensor(shape=torch.Size([10, 1]), device=cpu, dtype=torch.bool, is_shared=False),\n",
      "        truncated: Tensor(shape=torch.Size([10, 1]), device=cpu, dtype=torch.bool, is_shared=False)},\n",
      "    batch_size=torch.Size([10]),\n",
      "    device=None,\n",
      "    is_shared=False)\n"
     ]
    }
   ],
   "source": [
    "# Transforming and environment\n",
    "\n",
    "# We examine StepCounter transform. An exhaustive list is available at: https://docs.pytorch.org/rl/stable/reference/envs.html#id2\n",
    "\n",
    "from torchrl.envs import StepCounter, TransformedEnv\n",
    "\n",
    "transformed_env = TransformedEnv(env, StepCounter(max_steps = 10)) # Env has extra entry that tracks the number of steps\n",
    "rollout = transformed_env.rollout(max_steps=100) # The trajectory is truncated at 10 steps from above\n",
    "print(rollout)\n",
    "\n"
   ]
  },
  {
   "cell_type": "code",
   "execution_count": null,
   "id": "9b8477e7",
   "metadata": {},
   "outputs": [
    {
     "name": "stdout",
     "output_type": "stream",
     "text": [
      "tensor([[False],\n",
      "        [False],\n",
      "        [False],\n",
      "        [False],\n",
      "        [False],\n",
      "        [False],\n",
      "        [False],\n",
      "        [False],\n",
      "        [False],\n",
      "        [False]])\n"
     ]
    }
   ],
   "source": [
    "print(rollout[\"next\", \"truncated\"])"
   ]
  },
  {
   "cell_type": "markdown",
   "id": "ee6da489",
   "metadata": {},
   "source": [
    "To explore further what TorchRL’s environments can do, go and check:\n",
    "\n",
    "The step_and_maybe_reset() method that packs together step(), step_mdp() and reset().\n",
    "\n",
    "Some environments like GymEnv support rendering through the from_pixels argument. Check the class docstrings to know more!\n",
    "\n",
    "The batched environments, in particular ParallelEnv which allows you to run multiple copies of one same (or different!) environments on multiple processes.\n",
    "\n",
    "Design your own environment with the Pendulum tutorial and learn about specs and stateless environments.\n",
    "\n",
    "See the more in-depth tutorial about environments in the dedicated tutorial;\n",
    "\n",
    "Check the multi-agent environment API if you’re interested in MARL;\n",
    "\n",
    "TorchRL has many tools to interact with the Gym API such as a way to register TorchRL envs in the Gym register through register_gym(), an API to read the info dictionaries through set_info_dict_reader() or a way to control the gym backend thanks to set_gym_backend()."
   ]
  },
  {
   "cell_type": "code",
   "execution_count": 15,
   "id": "2a13bc11",
   "metadata": {},
   "outputs": [],
   "source": [
    "# TensorDictModules\n",
    "\n",
    "# Plicy (simple): deterministic map from obs to action\n",
    "\n",
    "import torch\n",
    "from tensordict.nn import TensorDictModule\n",
    "\n",
    "env = GymEnv(\"Pendulum-v1\")\n",
    "module = torch.nn.LazyLinear(out_features=env.action_spec.shape[-1]) # in_features is inferred with LazyLinear\n",
    "\n",
    "policy = TensorDictModule(\n",
    "    module,\n",
    "    in_keys =[\"observation\"],\n",
    "    out_keys=[\"action\"],\n",
    ")\n"
   ]
  },
  {
   "cell_type": "code",
   "execution_count": 24,
   "id": "2ffdf124",
   "metadata": {},
   "outputs": [
    {
     "name": "stdout",
     "output_type": "stream",
     "text": [
      "TensorDict(\n",
      "    fields={\n",
      "        action: Tensor(shape=torch.Size([200, 1]), device=cpu, dtype=torch.float32, is_shared=False),\n",
      "        done: Tensor(shape=torch.Size([200, 1]), device=cpu, dtype=torch.bool, is_shared=False),\n",
      "        next: TensorDict(\n",
      "            fields={\n",
      "                done: Tensor(shape=torch.Size([200, 1]), device=cpu, dtype=torch.bool, is_shared=False),\n",
      "                observation: Tensor(shape=torch.Size([200, 3]), device=cpu, dtype=torch.float32, is_shared=False),\n",
      "                reward: Tensor(shape=torch.Size([200, 1]), device=cpu, dtype=torch.float32, is_shared=False),\n",
      "                terminated: Tensor(shape=torch.Size([200, 1]), device=cpu, dtype=torch.bool, is_shared=False),\n",
      "                truncated: Tensor(shape=torch.Size([200, 1]), device=cpu, dtype=torch.bool, is_shared=False)},\n",
      "            batch_size=torch.Size([200]),\n",
      "            device=None,\n",
      "            is_shared=False),\n",
      "        observation: Tensor(shape=torch.Size([200, 3]), device=cpu, dtype=torch.float32, is_shared=False),\n",
      "        terminated: Tensor(shape=torch.Size([200, 1]), device=cpu, dtype=torch.bool, is_shared=False),\n",
      "        truncated: Tensor(shape=torch.Size([200, 1]), device=cpu, dtype=torch.bool, is_shared=False)},\n",
      "    batch_size=torch.Size([200]),\n",
      "    device=None,\n",
      "    is_shared=False)\n"
     ]
    }
   ],
   "source": [
    "# Now, we can run this policy in the environment\n",
    "\n",
    "rollout = env.rollout(max_steps=200, policy=policy)\n",
    "print(rollout)"
   ]
  },
  {
   "cell_type": "code",
   "execution_count": 25,
   "id": "b9eb9451",
   "metadata": {},
   "outputs": [
    {
     "data": {
      "image/png": "[encoded data removed]",
      "text/plain": [
       "<Figure size 640x480 with 1 Axes>"
      ]
     },
     "metadata": {},
     "output_type": "display_data"
    }
   ],
   "source": [
    "import matplotlib.pyplot as plt\n",
    "\n",
    "plt.plot(rollout[\"next\"][\"reward\"])\n",
    "plt.show()"
   ]
  },
  {
   "cell_type": "code",
   "execution_count": 26,
   "id": "f616a036",
   "metadata": {},
   "outputs": [
    {
     "name": "stdout",
     "output_type": "stream",
     "text": [
      "TensorDict(\n",
      "    fields={\n",
      "        action: Tensor(shape=torch.Size([10, 1]), device=cpu, dtype=torch.float32, is_shared=False),\n",
      "        done: Tensor(shape=torch.Size([10, 1]), device=cpu, dtype=torch.bool, is_shared=False),\n",
      "        next: TensorDict(\n",
      "            fields={\n",
      "                done: Tensor(shape=torch.Size([10, 1]), device=cpu, dtype=torch.bool, is_shared=False),\n",
      "                observation: Tensor(shape=torch.Size([10, 3]), device=cpu, dtype=torch.float32, is_shared=False),\n",
      "                reward: Tensor(shape=torch.Size([10, 1]), device=cpu, dtype=torch.float32, is_shared=False),\n",
      "                terminated: Tensor(shape=torch.Size([10, 1]), device=cpu, dtype=torch.bool, is_shared=False),\n",
      "                truncated: Tensor(shape=torch.Size([10, 1]), device=cpu, dtype=torch.bool, is_shared=False)},\n",
      "            batch_size=torch.Size([10]),\n",
      "            device=None,\n",
      "            is_shared=False),\n",
      "        observation: Tensor(shape=torch.Size([10, 3]), device=cpu, dtype=torch.float32, is_shared=False),\n",
      "        terminated: Tensor(shape=torch.Size([10, 1]), device=cpu, dtype=torch.bool, is_shared=False),\n",
      "        truncated: Tensor(shape=torch.Size([10, 1]), device=cpu, dtype=torch.bool, is_shared=False)},\n",
      "    batch_size=torch.Size([10]),\n",
      "    device=None,\n",
      "    is_shared=False)\n"
     ]
    }
   ],
   "source": [
    "# Specialized wrappers\n",
    "\n",
    "# To simplify incorporation of action, probaction, actorvalueoperator, actorcriticoperator\n",
    "\n",
    "from torchrl.modules import Actor\n",
    "policy = Actor(module)\n",
    "rollout = env.rollout(max_steps=10, policy=policy)\n",
    "print(rollout)"
   ]
  },
  {
   "cell_type": "code",
   "execution_count": null,
   "id": "c1e8958f",
   "metadata": {},
   "outputs": [],
   "source": [
    "# Networks (MLP and CNN). For RNN policies refer to https://docs.pytorch.org/rl/stable/tutorials/dqn_with_rnn.html#rnn-tuto\n",
    "\n",
    "from torchrl.modules import MLP\n",
    "module = MLP(\n",
    "    out_features=env.action_spec.shape[-1],\n",
    "    num_cells=[32,64],\n",
    "    activation_class=torch.nn.Tanh,\n",
    ")\n",
    "\n",
    "policy = Actor(module)\n",
    "rollout = env.rollout(max_steps=10, policy=policy)"
   ]
  },
  {
   "cell_type": "code",
   "execution_count": 28,
   "id": "5c2113ca",
   "metadata": {},
   "outputs": [
    {
     "data": {
      "text/plain": [
       "BoundedContinuous(\n",
       "    shape=torch.Size([1]),\n",
       "    space=ContinuousBox(\n",
       "        low=Tensor(shape=torch.Size([1]), device=cpu, dtype=torch.float32, contiguous=True),\n",
       "        high=Tensor(shape=torch.Size([1]), device=cpu, dtype=torch.float32, contiguous=True)),\n",
       "    device=cpu,\n",
       "    dtype=torch.float32,\n",
       "    domain=continuous)"
      ]
     },
     "execution_count": 28,
     "metadata": {},
     "output_type": "execute_result"
    }
   ],
   "source": [
    "env.action_spec"
   ]
  },
  {
   "cell_type": "code",
   "execution_count": 31,
   "id": "2e6dfa70",
   "metadata": {},
   "outputs": [
    {
     "data": {
      "text/plain": [
       "(tensor([-2.]), tensor([2.]))"
      ]
     },
     "execution_count": 31,
     "metadata": {},
     "output_type": "execute_result"
    }
   ],
   "source": [
    "env.action_spec.low, env.action_spec.high"
   ]
  },
  {
   "cell_type": "code",
   "execution_count": 39,
   "id": "e3c699c6",
   "metadata": {},
   "outputs": [
    {
     "name": "stdout",
     "output_type": "stream",
     "text": [
      "TensorDict(\n",
      "    fields={\n",
      "        action: Tensor(shape=torch.Size([10, 1]), device=cpu, dtype=torch.float32, is_shared=False),\n",
      "        action_log_prob: Tensor(shape=torch.Size([10, 1]), device=cpu, dtype=torch.float32, is_shared=False),\n",
      "        done: Tensor(shape=torch.Size([10, 1]), device=cpu, dtype=torch.bool, is_shared=False),\n",
      "        loc: Tensor(shape=torch.Size([10, 1]), device=cpu, dtype=torch.float32, is_shared=False),\n",
      "        next: TensorDict(\n",
      "            fields={\n",
      "                done: Tensor(shape=torch.Size([10, 1]), device=cpu, dtype=torch.bool, is_shared=False),\n",
      "                observation: Tensor(shape=torch.Size([10, 3]), device=cpu, dtype=torch.float32, is_shared=False),\n",
      "                reward: Tensor(shape=torch.Size([10, 1]), device=cpu, dtype=torch.float32, is_shared=False),\n",
      "                terminated: Tensor(shape=torch.Size([10, 1]), device=cpu, dtype=torch.bool, is_shared=False),\n",
      "                truncated: Tensor(shape=torch.Size([10, 1]), device=cpu, dtype=torch.bool, is_shared=False)},\n",
      "            batch_size=torch.Size([10]),\n",
      "            device=None,\n",
      "            is_shared=False),\n",
      "        observation: Tensor(shape=torch.Size([10, 3]), device=cpu, dtype=torch.float32, is_shared=False),\n",
      "        scale: Tensor(shape=torch.Size([10, 1]), device=cpu, dtype=torch.float32, is_shared=False),\n",
      "        terminated: Tensor(shape=torch.Size([10, 1]), device=cpu, dtype=torch.bool, is_shared=False),\n",
      "        truncated: Tensor(shape=torch.Size([10, 1]), device=cpu, dtype=torch.bool, is_shared=False)},\n",
      "    batch_size=torch.Size([10]),\n",
      "    device=None,\n",
      "    is_shared=False)\n"
     ]
    }
   ],
   "source": [
    "# Probabilistic Policies\n",
    "\n",
    "# TorchRL groups under a class various operations like finding distribution prameters, sampling, and retrieving log-probs.\n",
    "# Actor: MLP takes 3 obs and outputs 2 params. NormalParamExtractor splits output into meand and std. ProbAcot reads\n",
    "# those parameters as in_keys, create a distribution and populate tensordict with samples and logprobs.\n",
    "\n",
    "from tensordict.nn.distributions import NormalParamExtractor\n",
    "from torch.distributions import Normal\n",
    "from torchrl.modules import ProbabilisticActor\n",
    "\n",
    "backbone = MLP(in_features=3, out_features=2)\n",
    "extractor = NormalParamExtractor()\n",
    "module = torch.nn.Sequential(backbone, extractor)\n",
    "td_module = TensorDictModule(module, in_keys=[\"observation\"], out_keys=[\"loc\", \"scale\"])\n",
    "policy = ProbabilisticActor(\n",
    "    td_module,\n",
    "    in_keys=[\"loc\", \"scale\"],\n",
    "    out_keys=[\"action\"],\n",
    "    distribution_class=Normal,\n",
    "    return_log_prob=True,\n",
    ")\n",
    "\n",
    "rollout = env.rollout(max_steps=10, policy=policy)\n",
    "print(rollout)"
   ]
  },
  {
   "cell_type": "code",
   "execution_count": 42,
   "id": "6c51edd6",
   "metadata": {},
   "outputs": [
    {
     "data": {
      "text/plain": [
       "(tensor([[-0.0259],\n",
       "         [ 0.3075],\n",
       "         [ 0.6179],\n",
       "         [ 0.9124],\n",
       "         [ 1.1959],\n",
       "         [ 1.4700],\n",
       "         [ 1.7334],\n",
       "         [ 1.9807],\n",
       "         [ 2.2031],\n",
       "         [ 2.4045]], grad_fn=<StackBackward0>),\n",
       " tensor([[0.8737],\n",
       "         [0.8932],\n",
       "         [0.9106],\n",
       "         [0.9267],\n",
       "         [0.9428],\n",
       "         [0.9603],\n",
       "         [0.9810],\n",
       "         [1.0066],\n",
       "         [1.0389],\n",
       "         [1.0802]], grad_fn=<StackBackward0>),\n",
       " tensor([[-0.7839],\n",
       "         [-0.8060],\n",
       "         [-0.8253],\n",
       "         [-0.8428],\n",
       "         [-0.8600],\n",
       "         [-0.8785],\n",
       "         [-0.8998],\n",
       "         [-0.9256],\n",
       "         [-0.9571],\n",
       "         [-0.9961]], grad_fn=<StackBackward0>))"
      ]
     },
     "execution_count": 42,
     "metadata": {},
     "output_type": "execute_result"
    }
   ],
   "source": [
    "rollout[\"loc\"], rollout[\"scale\"], rollout[\"action_log_prob\"]"
   ]
  },
  {
   "cell_type": "code",
   "execution_count": null,
   "id": "e09a78d3",
   "metadata": {},
   "outputs": [],
   "source": [
    "# We can control the sampling of the action to use the E[x] or other properties\n",
    "\n",
    "from torchrl.envs.utils import ExplorationType, set_exploration_type\n",
    "\n",
    "with set_exploration_type(ExplorationType.DETERMINISTIC):\n",
    "    # Takes the mean of the action\n",
    "    rollout = env.rollout(max_steps=10, policy=policy)\n",
    "    \n",
    "with set_exploration_type(ExplorationType.RANDOM):\n",
    "    rollout = env.rollout(max_steps=10, policy=policy)\n",
    "    "
   ]
  },
  {
   "cell_type": "code",
   "execution_count": null,
   "id": "19e3fe68",
   "metadata": {},
   "outputs": [],
   "source": [
    "# Exploration, explore EGreedyModule (check also AdditiveGaussianModule and OrnsteinUhlenbeckProcessModule)\n",
    "# To see this model in action we revert to a deterministic policy\n",
    "\n",
    "from tensordict.nn import TensorDictSequential\n",
    "from torchrl.modules import EGreedyModule\n",
    "\n",
    "policy = Actor(MLP(3, 1, num_cells=[32, 32, 32]))\n",
    "\n",
    "exploration_module = EGreedyModule(\n",
    "    spec=env.action_spec, annealing_num_steps=1000, eps_init=0.5, eps_end=0.1 # 50% -> 10% prob random action\n",
    ") # Action space needed for random sampling"
   ]
  },
  {
   "cell_type": "code",
   "execution_count": 58,
   "id": "2e1b9ba5",
   "metadata": {},
   "outputs": [
    {
     "data": {
      "text/plain": [
       "tensor(0.5000)"
      ]
     },
     "execution_count": 58,
     "metadata": {},
     "output_type": "execute_result"
    }
   ],
   "source": [
    "exploration_module.eps"
   ]
  },
  {
   "cell_type": "code",
   "execution_count": 51,
   "id": "4eb698f3",
   "metadata": {},
   "outputs": [],
   "source": [
    "exploration_policy = TensorDictSequential(policy, exploration_module)\n",
    "\n",
    "with set_exploration_type(ExplorationType.DETERMINISTIC):\n",
    "    # Turns off exploration\n",
    "    rollout = env.rollout(max_steps=10, policy=exploration_policy)\n",
    "with set_exploration_type(ExplorationType.RANDOM):\n",
    "    # Turns on exploration\n",
    "    rollout = env.rollout(max_steps=10, policy=exploration_policy)"
   ]
  },
  {
   "cell_type": "code",
   "execution_count": 52,
   "id": "84ae3a70",
   "metadata": {},
   "outputs": [
    {
     "data": {
      "text/plain": [
       "TensorDictSequential(\n",
       "    module=ModuleList(\n",
       "      (0): Actor(\n",
       "          module=MLP(\n",
       "            (0): Linear(in_features=3, out_features=32, bias=True)\n",
       "            (1): Tanh()\n",
       "            (2): Linear(in_features=32, out_features=32, bias=True)\n",
       "            (3): Tanh()\n",
       "            (4): Linear(in_features=32, out_features=32, bias=True)\n",
       "            (5): Tanh()\n",
       "            (6): Linear(in_features=32, out_features=1, bias=True)\n",
       "          ),\n",
       "          device=cpu,\n",
       "          in_keys=['observation'],\n",
       "          out_keys=['action'])\n",
       "      (1): EGreedyModule()\n",
       "    ),\n",
       "    device=cpu,\n",
       "    in_keys=['observation'],\n",
       "    out_keys=['action'])"
      ]
     },
     "execution_count": 52,
     "metadata": {},
     "output_type": "execute_result"
    }
   ],
   "source": [
    "exploration_policy"
   ]
  },
  {
   "cell_type": "code",
   "execution_count": 59,
   "id": "98bf074c",
   "metadata": {},
   "outputs": [
    {
     "name": "stdout",
     "output_type": "stream",
     "text": [
      "OneHot(\n",
      "    shape=torch.Size([2]),\n",
      "    space=CategoricalBox(n=2),\n",
      "    device=cpu,\n",
      "    dtype=torch.int64,\n",
      "    domain=discrete)\n"
     ]
    }
   ],
   "source": [
    "# Q-Value actors: require and estimate of the action value. With finite discrete actions we can do a table.\n",
    "# DQN solved that problem by encoding Q(s,a) (state-action function) with a NN.\n",
    "\n",
    "env = GymEnv(\"CartPole-v1\")\n",
    "print(env.action_spec)"
   ]
  },
  {
   "cell_type": "code",
   "execution_count": 60,
   "id": "9cbb105b",
   "metadata": {},
   "outputs": [],
   "source": [
    "num_actions = 2\n",
    "value_net = TensorDictModule(\n",
    "    MLP(out_features=num_actions, num_cells=[32, 32]),\n",
    "    in_keys=[\"observation\"],\n",
    "    out_keys=[\"action_value\"],\n",
    ")"
   ]
  },
  {
   "cell_type": "code",
   "execution_count": 62,
   "id": "ee748dae",
   "metadata": {},
   "outputs": [],
   "source": [
    "# We build our Q-Value actor by adding a QValueModule\n",
    "\n",
    "from torchrl.modules import QValueModule\n",
    "\n",
    "policy = TensorDictSequential(\n",
    "    value_net, # writes action values in the tensordict\n",
    "    QValueModule(spec=env.action_spec), # Reads \"action_value\" entry by default\n",
    ")"
   ]
  },
  {
   "cell_type": "code",
   "execution_count": null,
   "id": "e3e5dabb",
   "metadata": {},
   "outputs": [
    {
     "name": "stdout",
     "output_type": "stream",
     "text": [
      "TensorDict(\n",
      "    fields={\n",
      "        action: Tensor(shape=torch.Size([3, 2]), device=cpu, dtype=torch.int64, is_shared=False),\n",
      "        action_value: Tensor(shape=torch.Size([3, 2]), device=cpu, dtype=torch.float32, is_shared=False),\n",
      "        chosen_action_value: Tensor(shape=torch.Size([3, 1]), device=cpu, dtype=torch.float32, is_shared=False),\n",
      "        done: Tensor(shape=torch.Size([3, 1]), device=cpu, dtype=torch.bool, is_shared=False),\n",
      "        next: TensorDict(\n",
      "            fields={\n",
      "                done: Tensor(shape=torch.Size([3, 1]), device=cpu, dtype=torch.bool, is_shared=False),\n",
      "                observation: Tensor(shape=torch.Size([3, 4]), device=cpu, dtype=torch.float32, is_shared=False),\n",
      "                reward: Tensor(shape=torch.Size([3, 1]), device=cpu, dtype=torch.float32, is_shared=False),\n",
      "                terminated: Tensor(shape=torch.Size([3, 1]), device=cpu, dtype=torch.bool, is_shared=False),\n",
      "                truncated: Tensor(shape=torch.Size([3, 1]), device=cpu, dtype=torch.bool, is_shared=False)},\n",
      "            batch_size=torch.Size([3]),\n",
      "            device=None,\n",
      "            is_shared=False),\n",
      "        observation: Tensor(shape=torch.Size([3, 4]), device=cpu, dtype=torch.float32, is_shared=False),\n",
      "        terminated: Tensor(shape=torch.Size([3, 1]), device=cpu, dtype=torch.bool, is_shared=False),\n",
      "        truncated: Tensor(shape=torch.Size([3, 1]), device=cpu, dtype=torch.bool, is_shared=False)},\n",
      "    batch_size=torch.Size([3]),\n",
      "    device=None,\n",
      "    is_shared=False)\n"
     ]
    }
   ],
   "source": [
    "rollout = env.rollout(max_steps=3, policy=policy) # Deterministic policy since it uses argmax\n",
    "print(rollout) # We have action_value and choose_action_value"
   ]
  },
  {
   "cell_type": "code",
   "execution_count": 69,
   "id": "92f902b8",
   "metadata": {},
   "outputs": [
    {
     "data": {
      "text/plain": [
       "(tensor([[ 0.0021],\n",
       "         [-0.0483],\n",
       "         [-0.0382]], grad_fn=<StackBackward0>),\n",
       " tensor([[ 0.0021, -0.1316],\n",
       "         [-0.0483, -0.0830],\n",
       "         [-0.0897, -0.0382]], grad_fn=<StackBackward0>),\n",
       " tensor([[1, 0],\n",
       "         [1, 0],\n",
       "         [0, 1]]))"
      ]
     },
     "execution_count": 69,
     "metadata": {},
     "output_type": "execute_result"
    }
   ],
   "source": [
    "rollout[\"chosen_action_value\"], rollout[\"action_value\"], rollout[\"action\"]"
   ]
  },
  {
   "cell_type": "code",
   "execution_count": null,
   "id": "2ec7e773",
   "metadata": {},
   "outputs": [],
   "source": [
    "# During data collection, we explore the environment. We use the EGReedyModule\n",
    "\n",
    "policy_explore = TensorDictSequential(policy, EGreedyModule(env.action_spec))\n",
    "\n",
    "with set_exploration_type(ExplorationType.RANDOM):\n",
    "    rollout_explore = env.rollout(max_steps = 3, policy=policy_explore)\n",
    "\n",
    "# EXTRA MATERIAL: https://docs.pytorch.org/rl/stable/reference/modules.html#ref-modules"
   ]
  },
  {
   "cell_type": "code",
   "execution_count": null,
   "id": "63ca1c08",
   "metadata": {},
   "outputs": [],
   "source": [
    "# GETTING STARTED WITH MODEL OPTIMIZATION\n",
    "\n",
    "# A typical training loop looks like this\n",
    "\n",
    "\"\"\"\n",
    "for i in range(n_collections):\n",
    "    data = get_next_batch(env, policy)\n",
    "    for j in range(n_optim):\n",
    "        loss = loss_fn(data)\n",
    "        loss.backward()\n",
    "        optim.step()\n",
    "\"\"\""
   ]
  }
 ],
 "metadata": {
  "kernelspec": {
   "display_name": "MLClass",
   "language": "python",
   "name": "python3"
  },
  "language_info": {
   "codemirror_mode": {
    "name": "ipython",
    "version": 3
   },
   "file_extension": ".py",
   "mimetype": "text/x-python",
   "name": "python",
   "nbconvert_exporter": "python",
   "pygments_lexer": "ipython3",
   "version": "3.9.18"
  }
 },
 "nbformat": 4,
 "nbformat_minor": 5
}
